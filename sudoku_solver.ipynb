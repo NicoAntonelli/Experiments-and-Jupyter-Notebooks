{
 "cells": [
  {
   "cell_type": "markdown",
   "metadata": {},
   "source": [
    "### Notebook Information\n",
    "Made by: [@NicoAntonelli](https://github.com/NicoAntonelli/), April 2020\n",
    "\n",
    "Inspired by: [YT/Computerphile](https://www.youtube.com/channel/UC9-y-6csu5WGm29I7JiwpnA)"
   ]
  },
  {
   "cell_type": "markdown",
   "metadata": {},
   "source": [
    "# Sudoku Solver\n",
    "### Definition\n",
    "Sudoku (数独, sūdoku, digit-single) is a logic-based, combinatorial number-placement puzzle. The objective is to fill a 9×9 grid with digits so that each column, each row, and each of the nine 3×3 subgrids that compose the grid (also called \"boxes\", \"blocks\", or \"regions\") contain all of the digits from 1 to 9. The puzzle setter provides a partially completed grid, which for a well-posed puzzle has a single solution [[1]](https://en.wikipedia.org/wiki/Sudoku).\n",
    "\n",
    "Really, a Sudoku can have more than one solution. It depends intimately on its initial state, that is, according to how many numbers and in what way you have put them. \n"
   ]
  },
  {
   "cell_type": "markdown",
   "metadata": {},
   "source": [
    "## A typical Sudoku puzzle\n",
    "![A typical Sudoku puzzle](https://upload.wikimedia.org/wikipedia/commons/e/e0/Sudoku_Puzzle_by_L2G-20050714_standardized_layout.svg)"
   ]
  },
  {
   "cell_type": "markdown",
   "metadata": {},
   "source": [
    "## And its Solution\n",
    "![And its Solution](https://upload.wikimedia.org/wikipedia/commons/1/12/Sudoku_Puzzle_by_L2G-20050714_solution_standardized_layout.svg)"
   ]
  },
  {
   "cell_type": "markdown",
   "metadata": {},
   "source": [
    "Let's start by defining an example Sudoku puzzle like the one on the photo"
   ]
  },
  {
   "cell_type": "code",
   "execution_count": 1,
   "metadata": {},
   "outputs": [
    {
     "output_type": "execute_result",
     "data": {
      "text/plain": "array([[5, 3, 0, 0, 7, 0, 0, 0, 0],\n       [6, 0, 0, 1, 9, 5, 0, 0, 0],\n       [0, 9, 8, 0, 0, 0, 0, 6, 0],\n       [8, 0, 0, 0, 6, 0, 0, 0, 3],\n       [4, 0, 0, 8, 0, 3, 0, 0, 1],\n       [7, 0, 0, 0, 2, 0, 0, 0, 6],\n       [0, 6, 0, 0, 0, 0, 2, 8, 0],\n       [0, 0, 0, 4, 1, 9, 0, 0, 5],\n       [0, 0, 0, 0, 8, 0, 0, 7, 9]])"
     },
     "metadata": {},
     "execution_count": 1
    }
   ],
   "source": [
    "import numpy as np\n",
    "\n",
    "sudoku_grid = np.array([\n",
    "    [5, 3, 0, 0, 7, 0, 0, 0, 0],\n",
    "    [6, 0, 0, 1, 9, 5, 0, 0, 0],\n",
    "    [0, 9, 8, 0, 0, 0, 0, 6, 0],\n",
    "    [8, 0, 0, 0, 6, 0, 0, 0, 3],\n",
    "    [4, 0, 0, 8, 0, 3, 0, 0, 1],\n",
    "    [7, 0, 0, 0, 2, 0, 0, 0, 6],\n",
    "    [0, 6, 0, 0, 0, 0, 2, 8, 0],\n",
    "    [0, 0, 0, 4, 1, 9, 0, 0, 5],\n",
    "    [0, 0, 0, 0, 8, 0, 0, 7, 9]])\n",
    "\n",
    "sudoku_grid"
   ]
  },
  {
   "cell_type": "markdown",
   "metadata": {},
   "source": [
    "Now define a function analysing that is possible or not to write some number on a particular position of the grid. From coordinates and the number value, check if the number already exist in that row, column or block."
   ]
  },
  {
   "cell_type": "code",
   "execution_count": 2,
   "metadata": {},
   "outputs": [],
   "source": [
    "def possible(y, x, n):\n",
    "    for i in range(9):\n",
    "        # Row validation\n",
    "        if(sudoku_grid[y][i] == n):\n",
    "            return False\n",
    "        # Column validation\n",
    "        if(sudoku_grid[i][x] == n):\n",
    "            return False\n",
    "    # Block validation\n",
    "    # (y0, x0) are the block's upper-left coordinate\n",
    "    x0 = (x // 3) * 3\n",
    "    y0 = (y // 3) * 3\n",
    "    for y in range(3):\n",
    "        for x in range(3):\n",
    "            if (sudoku_grid[y0 + y][x0 + x] == n):\n",
    "                return False\n",
    "    # Everything OK\n",
    "    return True"
   ]
  },
  {
   "cell_type": "markdown",
   "metadata": {},
   "source": [
    "We can test the function passing some (y, x) coordinates and a number n.\n",
    "\n",
    "Examples: (2, 6) position with the number: 5 (possible) and 6 (not possible).\n",
    "\n",
    "In reality the coordinate is (3, 6) but arrays starts at zero, wich makes calculating the block's upper-left corner coordinate much easier by the way."
   ]
  },
  {
   "cell_type": "code",
   "execution_count": 3,
   "metadata": {},
   "outputs": [
    {
     "output_type": "execute_result",
     "data": {
      "text/plain": "False"
     },
     "metadata": {},
     "execution_count": 3
    }
   ],
   "source": [
    "possible(2, 6, 6)"
   ]
  },
  {
   "cell_type": "code",
   "execution_count": 4,
   "metadata": {},
   "outputs": [
    {
     "output_type": "execute_result",
     "data": {
      "text/plain": "True"
     },
     "metadata": {},
     "execution_count": 4
    }
   ],
   "source": [
    "possible(2, 6, 5)"
   ]
  },
  {
   "cell_type": "markdown",
   "metadata": {},
   "source": [
    "It's time, the solver recursive function will use the \"possible\" function for every verification and will call itself in order to solve any input sudoku grid, by adding one by one number to the grid and following all possibles sub-stacks with every number.\n",
    "\n",
    "Yeah... brute force. But recursive brute force!"
   ]
  },
  {
   "cell_type": "code",
   "execution_count": 5,
   "metadata": {},
   "outputs": [],
   "source": [
    "def solver(grid):\n",
    "    for y in range(9):\n",
    "        for x in range(9):\n",
    "            # If the grid contains one more zero\n",
    "            if(grid[y][x] == 0):\n",
    "                for n in range(1, 10):\n",
    "                    if (possible(y, x, n)):\n",
    "                        grid[y][x] = n\n",
    "                        # Recursive time: a call for every possibility\n",
    "                        solver(grid)\n",
    "                        # If a sub-stack had a dead end, restart and return\n",
    "                        grid[y][x] = 0\n",
    "                return\n",
    "    print(grid)\n",
    "    input(\"One solution found. You need another?\")\n",
    "    print()"
   ]
  },
  {
   "cell_type": "code",
   "execution_count": 6,
   "metadata": {},
   "outputs": [
    {
     "output_type": "stream",
     "name": "stdout",
     "text": "[[5 3 4 6 7 8 9 1 2]\n [6 7 2 1 9 5 3 4 8]\n [1 9 8 3 4 2 5 6 7]\n [8 5 9 7 6 1 4 2 3]\n [4 2 6 8 5 3 7 9 1]\n [7 1 3 9 2 4 8 5 6]\n [9 6 1 5 3 7 2 8 4]\n [2 8 7 4 1 9 6 3 5]\n [3 4 5 2 8 6 1 7 9]]\n\n"
    }
   ],
   "source": [
    "solver(sudoku_grid)"
   ]
  },
  {
   "cell_type": "markdown",
   "metadata": {},
   "source": [
    "## Amazing!! It works!! Even for multiple solutions (you can change values from the input grid to test it). But can we verify that are really correct solutions? Let's define some function for checking if it is correct.\n",
    "\n",
    "#### Note: the design of the solver recursive function is not mine, I watched on a really cool video from Computerphile. However, I made from my own the solution_verificator below.\n",
    "#### Make this function cost me like 2 hours. Submatrix. It was fun to research and try."
   ]
  },
  {
   "cell_type": "code",
   "execution_count": 7,
   "metadata": {},
   "outputs": [],
   "source": [
    "def solution_verificator(grid):\n",
    "    # First, check if it is a valid grid\n",
    "    for y in range(9):\n",
    "        for x in range(9):\n",
    "            if ((isinstance(grid[y][x], float)) or grid[y][x] <= 0 or grid[y][x] > 9):\n",
    "                return \"Invalid solution for a Sudoku grid\"\n",
    "\n",
    "    # Now, the real cheking. I will check sums of rows, columns and blocks (Everything sums 45)\n",
    "    total_sum = sum(np.arange(9+1))\n",
    "\n",
    "    # First, columns and rows\n",
    "    for i in range(9):\n",
    "        if(sum(grid[i][:]) != total_sum or sum(grid[:][i]) != 45):\n",
    "            return \"Wrong solution\"\n",
    "    \n",
    "    # Then, blocks. I will use submatrixes.\n",
    "    submatrixes = []\n",
    "    for y in range(0, 9, 3):\n",
    "        for x in range(0, 9, 3):\n",
    "            submatrixes.append(solution[np.ix_([y, y+1, y+2], [x, x+1, x+2])])\n",
    "    submatrixes = np.array(submatrixes)\n",
    "    for sub in submatrixes:\n",
    "        if (np.ndarray.sum(sub) != 45):\n",
    "            return \"Wrong solution\"\n",
    "\n",
    "    return \"Your solution is correct!\""
   ]
  },
  {
   "cell_type": "markdown",
   "metadata": {},
   "source": [
    "I will define again the solution given by solver.\n",
    "\n",
    "You can try changing numbers (triggers column/row verification), or changing an entire row (triggers block verification)."
   ]
  },
  {
   "cell_type": "code",
   "execution_count": 8,
   "metadata": {},
   "outputs": [],
   "source": [
    "solution = np.array([\n",
    "    [5, 3, 4, 6, 7, 8, 9, 1, 2],\n",
    "    [6, 7, 2, 1, 9, 5, 3, 4, 8],\n",
    "    [1, 9, 8, 3, 4, 2, 5, 6, 7],\n",
    "    [8, 5, 9, 7, 6, 1, 4, 2, 3],\n",
    "    [4, 2, 6, 8, 5, 3, 7, 9, 1],\n",
    "    [7, 1, 3, 9, 2, 4, 8, 5, 6],\n",
    "    [9, 6, 1, 5, 3, 7, 2, 8, 4],\n",
    "    [2, 8, 7, 4, 1, 9, 6, 3, 5],\n",
    "    [3, 4, 5, 2, 8, 6, 1, 7, 9]])"
   ]
  },
  {
   "cell_type": "code",
   "execution_count": 9,
   "metadata": {},
   "outputs": [
    {
     "output_type": "execute_result",
     "data": {
      "text/plain": "'Your solution is correct!'"
     },
     "metadata": {},
     "execution_count": 9
    }
   ],
   "source": [
    "solution_verificator(solution)"
   ]
  },
  {
   "cell_type": "markdown",
   "metadata": {},
   "source": [
    "## And the end. Now, I'm going to solve some real Sudokus."
   ]
  }
 ],
 "metadata": {
  "language_info": {
   "codemirror_mode": {
    "name": "ipython",
    "version": 3
   },
   "file_extension": ".py",
   "mimetype": "text/x-python",
   "name": "python",
   "nbconvert_exporter": "python",
   "pygments_lexer": "ipython3",
   "version": "3.7.0-final"
  },
  "orig_nbformat": 2,
  "kernelspec": {
   "name": "python37064bit4614adc8bb8746d4abfc15a591248490",
   "display_name": "Python 3.7.0 64-bit"
  }
 },
 "nbformat": 4,
 "nbformat_minor": 2
}