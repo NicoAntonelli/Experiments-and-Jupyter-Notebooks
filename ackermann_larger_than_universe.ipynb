{
 "cells": [
  {
   "cell_type": "markdown",
   "metadata": {},
   "source": [
    "### Notebook Information\n",
    "Made by: [@NicoAntonelli](https://github.com/NicoAntonelli/), April 2020"
   ]
  },
  {
   "cell_type": "markdown",
   "metadata": {},
   "source": [
    "# Ackermann Function: Larger than the Universe\n",
    "### Definition\n",
    "The Ackermann function is a _recursive_ function in *Computability Theory*. The Ackermann function, named after **Wilhelm Ackermann**, is one of the simplest and earliest-discovered examples of a _total computable_ function that is not _primitive recursive_ [[1]](https://en.wikipedia.org/wiki/Ackermann_function).\n",
    "\n",
    "$\\\n",
    "\\begin{equation*}\n",
    "    A(m,n) = \\begin{cases}\n",
    "        n+1, & if \\ \\ \\ m=0; \\\\\n",
    "        A(m-1, 1), & if \\ \\ \\ m>0 \\ \\ \\ and \\ \\ \\ n=0; \\\\\n",
    "        A(m-1, A(m,n-1)), & if \\ \\ \\ m>0 \\ \\ \\ and \\ \\ \\ n>0; \\\\\n",
    "    \\end{cases}\n",
    "\\end{equation*}\n",
    "$\n"
   ]
  },
  {
   "cell_type": "code",
   "execution_count": 1,
   "metadata": {},
   "outputs": [],
   "source": [
    "def Ackermann(m, n):\n",
    "    if (m == 0):\n",
    "        return n + 1\n",
    "    elif (n == 0):\n",
    "        return Ackermann(m - 1, 1)\n",
    "    else:\n",
    "        return Ackermann(m - 1, Ackermann(m, n - 1))"
   ]
  },
  {
   "cell_type": "markdown",
   "metadata": {},
   "source": [
    "At first this might seem uninteresting, you give the Ackermann function small values and it's just one more recursive function. Nothing special... right?\n",
    "\n",
    "Let's start defining an array with these first results: A(i,j), i,j=\\[0, 3]. That is, from A(0, 0) to A(3, 3)."
   ]
  },
  {
   "cell_type": "code",
   "execution_count": 2,
   "metadata": {},
   "outputs": [
    {
     "output_type": "execute_result",
     "data": {
      "text/plain": "array([], dtype=int32)"
     },
     "metadata": {},
     "execution_count": 2
    }
   ],
   "source": [
    "import numpy as np\n",
    "\n",
    "ack_results = np.array([], dtype=int)\n",
    "ack_results"
   ]
  },
  {
   "cell_type": "code",
   "execution_count": 3,
   "metadata": {},
   "outputs": [
    {
     "output_type": "execute_result",
     "data": {
      "text/plain": "array([['A(0,0) = 1', 'A(0,1) = 2', 'A(0,2) = 3', 'A(0,3) = 4'],\n       ['A(1,0) = 2', 'A(1,1) = 3', 'A(1,2) = 4', 'A(1,3) = 5'],\n       ['A(2,0) = 3', 'A(2,1) = 5', 'A(2,2) = 7', 'A(2,3) = 9'],\n       ['A(3,0) = 5', 'A(3,1) = 13', 'A(3,2) = 29', 'A(3,3) = 61']],\n      dtype='<U11')"
     },
     "metadata": {},
     "execution_count": 3
    }
   ],
   "source": [
    "# Ackermann Function's first 16 Results (0..3 x 0..3)\n",
    "ack_results = np.append(ack_results, [Ackermann(i, j) for i in range(0, 4) for j in range(0, 4)])\n",
    "\n",
    "# Printing ack_results in a more elegant way\n",
    "show_better = np.vectorize(lambda i, j: i + str(j))\n",
    "indices = np.array([\"A(\"+str(i)+\",\"+str(j)+\") = \" for i in range(0, 4) for j in range(0, 4)])\n",
    "show_better(indices, ack_results).reshape(4, 4)"
   ]
  },
  {
   "cell_type": "markdown",
   "metadata": {},
   "source": [
    "Ok, totally normal up to here. Now, with 'm' more bigger than 3, is when everything gets ... cosmic.\n",
    "\n",
    "Let's say m=4, and let's go one by one:"
   ]
  },
  {
   "cell_type": "code",
   "execution_count": 4,
   "metadata": {},
   "outputs": [
    {
     "output_type": "execute_result",
     "data": {
      "text/plain": "13"
     },
     "metadata": {},
     "execution_count": 4
    }
   ],
   "source": [
    "Ackermann(4, 0)"
   ]
  },
  {
   "cell_type": "markdown",
   "metadata": {},
   "source": [
    "Yeah, 13. But if we **TRY** the next one: A(4,1), Python throws an error: _\"RecursionError: maximum recursion depth exceeded in comparison\"_.\n",
    "\n",
    "\n",
    "The real answer is **65533**, it can be calculated in other language with more _stacking_ capability. But that's ALSO NOTHING compared to A(4, 2)."
   ]
  },
  {
   "cell_type": "code",
   "execution_count": 5,
   "metadata": {},
   "outputs": [
    {
     "output_type": "error",
     "ename": "RecursionError",
     "evalue": "maximum recursion depth exceeded in comparison",
     "traceback": [
      "\u001b[1;31m---------------------------------------------------------------------------\u001b[0m",
      "\u001b[1;31mRecursionError\u001b[0m                            Traceback (most recent call last)",
      "\u001b[1;32m<ipython-input-5-7a87c7271465>\u001b[0m in \u001b[0;36m<module>\u001b[1;34m\u001b[0m\n\u001b[1;32m----> 1\u001b[1;33m \u001b[0mAckermann\u001b[0m\u001b[1;33m(\u001b[0m\u001b[1;36m4\u001b[0m\u001b[1;33m,\u001b[0m \u001b[1;36m1\u001b[0m\u001b[1;33m)\u001b[0m\u001b[1;33m\u001b[0m\u001b[0m\n\u001b[0m",
      "\u001b[1;32m<ipython-input-1-47411d59a31a>\u001b[0m in \u001b[0;36mAckermann\u001b[1;34m(m, n)\u001b[0m\n\u001b[0;32m      5\u001b[0m         \u001b[1;32mreturn\u001b[0m \u001b[0mAckermann\u001b[0m\u001b[1;33m(\u001b[0m\u001b[0mm\u001b[0m \u001b[1;33m-\u001b[0m \u001b[1;36m1\u001b[0m\u001b[1;33m,\u001b[0m \u001b[1;36m1\u001b[0m\u001b[1;33m)\u001b[0m\u001b[1;33m\u001b[0m\u001b[0m\n\u001b[0;32m      6\u001b[0m     \u001b[1;32melse\u001b[0m\u001b[1;33m:\u001b[0m\u001b[1;33m\u001b[0m\u001b[0m\n\u001b[1;32m----> 7\u001b[1;33m         \u001b[1;32mreturn\u001b[0m \u001b[0mAckermann\u001b[0m\u001b[1;33m(\u001b[0m\u001b[0mm\u001b[0m \u001b[1;33m-\u001b[0m \u001b[1;36m1\u001b[0m\u001b[1;33m,\u001b[0m \u001b[0mAckermann\u001b[0m\u001b[1;33m(\u001b[0m\u001b[0mm\u001b[0m\u001b[1;33m,\u001b[0m \u001b[0mn\u001b[0m \u001b[1;33m-\u001b[0m \u001b[1;36m1\u001b[0m\u001b[1;33m)\u001b[0m\u001b[1;33m)\u001b[0m\u001b[1;33m\u001b[0m\u001b[0m\n\u001b[0m",
      "... last 1 frames repeated, from the frame below ...\n",
      "\u001b[1;32m<ipython-input-1-47411d59a31a>\u001b[0m in \u001b[0;36mAckermann\u001b[1;34m(m, n)\u001b[0m\n\u001b[0;32m      5\u001b[0m         \u001b[1;32mreturn\u001b[0m \u001b[0mAckermann\u001b[0m\u001b[1;33m(\u001b[0m\u001b[0mm\u001b[0m \u001b[1;33m-\u001b[0m \u001b[1;36m1\u001b[0m\u001b[1;33m,\u001b[0m \u001b[1;36m1\u001b[0m\u001b[1;33m)\u001b[0m\u001b[1;33m\u001b[0m\u001b[0m\n\u001b[0;32m      6\u001b[0m     \u001b[1;32melse\u001b[0m\u001b[1;33m:\u001b[0m\u001b[1;33m\u001b[0m\u001b[0m\n\u001b[1;32m----> 7\u001b[1;33m         \u001b[1;32mreturn\u001b[0m \u001b[0mAckermann\u001b[0m\u001b[1;33m(\u001b[0m\u001b[0mm\u001b[0m \u001b[1;33m-\u001b[0m \u001b[1;36m1\u001b[0m\u001b[1;33m,\u001b[0m \u001b[0mAckermann\u001b[0m\u001b[1;33m(\u001b[0m\u001b[0mm\u001b[0m\u001b[1;33m,\u001b[0m \u001b[0mn\u001b[0m \u001b[1;33m-\u001b[0m \u001b[1;36m1\u001b[0m\u001b[1;33m)\u001b[0m\u001b[1;33m)\u001b[0m\u001b[1;33m\u001b[0m\u001b[0m\n\u001b[0m",
      "\u001b[1;31mRecursionError\u001b[0m: maximum recursion depth exceeded in comparison"
     ]
    }
   ],
   "source": [
    "Ackermann(4, 1)"
   ]
  },
  {
   "cell_type": "code",
   "execution_count": null,
   "metadata": {},
   "outputs": [],
   "source": [
    "# Not even try to run this line\n",
    "Ackermann(4, 2)"
   ]
  },
  {
   "cell_type": "markdown",
   "metadata": {},
   "source": [
    "### A(4,2) is greater than the number of particles that make up the universe raised to the power 200. Amazing.\n",
    "\n",
    "### A little more: The result of A(5,2) cannot be written since _it would not fit in the physical Universe_. In general, below row 4 it is no longer possible to write all the digits of the result of the Ackermann's function.\n",
    "\n",
    "$\\\n",
    "\\begin{equation*}\n",
    "A(4,0) = (2 \\uparrow \\uparrow 3) - 3 = 2^{2^2} - 3 = 2^4 - 3 = 13\n",
    "\\end{equation*}\n",
    "$\n",
    "\n",
    "$\\\n",
    "\\begin{equation*}\n",
    "A(4,1) = (2 \\uparrow \\uparrow 4) - 3 = 2^{2^{2^2}} - 3 = 2^{16} - 3 = 65533 \\\\\n",
    "\\end{equation*}\n",
    "$\n",
    "\n",
    "$\\\n",
    "\\begin{equation*}\n",
    "A(4,2) = (2 \\uparrow \\uparrow 5) - 3 = 2^{2^{2^{2^2}}} - 3 = 2^{65536} - 3 \\\\\n",
    "\\end{equation*}\n",
    "$\n",
    "\n",
    "...\n",
    "\n",
    "$\\\n",
    "\\begin{equation*}\n",
    "A(5,2) = Something \\ \\ F***ing \\ \\ BIG \\\\\n",
    "\\end{equation*}\n",
    "$\n",
    "\n",
    "...\n",
    "\n",
    "$\\\n",
    "\\begin{equation*}\n",
    "A(n,m) = Please \\ stop\n",
    "\\end{equation*}\n",
    "$\n",
    "\n",
    "And all of this with base numbers that you can count using the fingers of one hand. It continues to grow immeasurably for higher values for n and m."
   ]
  },
  {
   "cell_type": "markdown",
   "metadata": {},
   "source": [
    "### This is all I wanted to share on this Jupyter Notebook. I hope you have a damn good day.\n",
    "### PS: Yeah, Graham's Number is even bigger... please don't say it and let me enjoy."
   ]
  }
 ],
 "metadata": {
  "language_info": {
   "codemirror_mode": {
    "name": "ipython",
    "version": 3
   },
   "file_extension": ".py",
   "mimetype": "text/x-python",
   "name": "python",
   "nbconvert_exporter": "python",
   "pygments_lexer": "ipython3",
   "version": "3.7.0-final"
  },
  "orig_nbformat": 2,
  "kernelspec": {
   "name": "python37064bit4614adc8bb8746d4abfc15a591248490",
   "display_name": "Python 3.7.0 64-bit"
  }
 },
 "nbformat": 4,
 "nbformat_minor": 2
}