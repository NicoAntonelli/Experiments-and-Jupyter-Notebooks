{
 "cells": [
  {
   "cell_type": "markdown",
   "metadata": {},
   "source": [
    "### Notebook Information\n",
    "Made by: [@NicoAntonelli](https://github.com/NicoAntonelli/), April 2020\n",
    "\n",
    "Version: 2.0"
   ]
  },
  {
   "cell_type": "markdown",
   "metadata": {},
   "source": [
    "# Decipher the secret message\n",
    "\n",
    "ΣΦΨΞΔλΨΔΛΣΦΔλΨξΔϗΞΔΦΨΞϑλΨΛΣΘϑΞϗΦϑλΨΣΞΨλϑΞΨζβΣφΔΨΣΦΨΣΞΨξΛϗΞΞϑΨϖΣΞΨΠΣϖΛΣφΔΞΨΩΨΠΛΣΦ\n",
    "\n",
    "ϖϗϖϑΨΔΨΞΔΨΘΔφϗΔΨϖΣΨΞϑλΨΓΔΘϗΦϑλΨΣΞΨΔΛΛϗΣΛϑΨαΔΨΣΞΨΔΛΛϗΣΛϑΨαΔΨΣλΨξΔΦϖΣΛΔΨϖΣΨΦϗΣξΞΔΨ\n",
    "\n",
    "λβΨΠϑΦΓΡϑΨΔΞΨαϗΣΦμϑΨΞϑΨλΔΞβϖΔΦΨΞΔλΨεΞΔβμΔλΨϖΣΞΨΠΔζϑΦΔΞΨΩΨΔΦϗΘΔΦϖϑΨΞΔΨμΛϑΠΔΨΠΔΛΨΣ\n",
    "\n",
    "λϑλΨΓΣΛΛϑλΨΣΞΨΔΛΛϗΣΛϑΨαΔΨΣΞΨΔΛΛϗΣΛϑΨαΔΨΞΔλΨΠΣΦΔλΨΩΨΞΔλΨαΔηβϗμΔλΨλΣΨαΔΦΨΠΔΛΨΞΔΨΘϗ\n",
    "\n",
    "λΘΔΨλΣΦϖΔΨΞΔλΨΠΣΦΔλΨλϑΦΨϖΣΨΦϑλϑμΛϑλΨΞΔλΨαΔηβϗμΔλΨλϑΦΨΔζΣΦΔλ\n",
    "\n",
    "## Problem requested by: 'CompuTrabajo Argentina'\n"
   ]
  },
  {
   "cell_type": "code",
   "execution_count": 1,
   "metadata": {},
   "outputs": [
    {
     "output_type": "execute_result",
     "data": {
      "text/plain": "'Message: ΣΦΨΞΔλΨΔΛΣΦΔλΨξΔϗΞΔΦΨΞϑλΨΛΣΘϑΞϗΦϑλΨΣΞΨλϑΞΨζβΣφΔΨΣΦΨΣΞΨξΛϗΞΞϑΨϖΣΞΨΠΣϖΛΣφΔΞΨΩΨΠΛΣΦϖϗϖϑΨΔΨΞΔΨΘΔφϗΔΨϖΣΨΞϑλΨΓΔΘϗΦϑλΨΣΞΨΔΛΛϗΣΛϑΨαΔΨΣΞΨΔΛΛϗΣΛϑΨαΔΨΣλΨξΔΦϖΣΛΔΨϖΣΨΦϗΣξΞΔΨλβΨΠϑΦΓΡϑΨΔΞΨαϗΣΦμϑΨΞϑΨλΔΞβϖΔΦΨΞΔλΨεΞΔβμΔλΨϖΣΞΨΠΔζϑΦΔΞΨΩΨΔΦϗΘΔΦϖϑΨΞΔΨμΛϑΠΔΨΠΔΛΨΣλϑλΨΓΣΛΛϑλΨΣΞΨΔΛΛϗΣΛϑΨαΔΨΣΞΨΔΛΛϗΣΛϑΨαΔΨΞΔλΨΠΣΦΔλΨΩΨΞΔλΨαΔηβϗμΔλΨλΣΨαΔΦΨΠΔΛΨΞΔΨΘϗλΘΔΨλΣΦϖΔΨΞΔλΨΠΣΦΔλΨλϑΦΨϖΣΨΦϑλϑμΛϑλΨΞΔλΨαΔηβϗμΔλΨλϑΦΨΔζΣΦΔλ, Total Symbols: 379'"
     },
     "metadata": {},
     "execution_count": 1
    }
   ],
   "source": [
    "# -*- coding: utf-8 -*-\n",
    "challenge_msg = \"ΣΦΨΞΔλΨΔΛΣΦΔλΨξΔϗΞΔΦΨΞϑλΨΛΣΘϑΞϗΦϑλΨΣΞΨλϑΞΨζβΣφΔΨΣΦΨΣΞΨξΛϗΞΞϑΨϖΣΞΨΠΣϖΛΣφΔΞΨΩΨΠΛΣΦϖϗϖϑΨΔΨΞΔΨΘΔφϗΔΨϖΣΨΞϑλΨΓΔΘϗΦϑλΨΣΞΨΔΛΛϗΣΛϑΨαΔΨΣΞΨΔΛΛϗΣΛϑΨαΔΨΣλΨξΔΦϖΣΛΔΨϖΣΨΦϗΣξΞΔΨλβΨΠϑΦΓΡϑΨΔΞΨαϗΣΦμϑΨΞϑΨλΔΞβϖΔΦΨΞΔλΨεΞΔβμΔλΨϖΣΞΨΠΔζϑΦΔΞΨΩΨΔΦϗΘΔΦϖϑΨΞΔΨμΛϑΠΔΨΠΔΛΨΣλϑλΨΓΣΛΛϑλΨΣΞΨΔΛΛϗΣΛϑΨαΔΨΣΞΨΔΛΛϗΣΛϑΨαΔΨΞΔλΨΠΣΦΔλΨΩΨΞΔλΨαΔηβϗμΔλΨλΣΨαΔΦΨΠΔΛΨΞΔΨΘϗλΘΔΨλΣΦϖΔΨΞΔλΨΠΣΦΔλΨλϑΦΨϖΣΨΦϑλϑμΛϑλΨΞΔλΨαΔηβϗμΔλΨλϑΦΨΔζΣΦΔλ\"\n",
    "\n",
    "\"Message: \" + challenge_msg + \", Total Symbols: \" + str(len(challenge_msg))"
   ]
  },
  {
   "cell_type": "markdown",
   "metadata": {},
   "source": [
    "Let's map the message into an occurrence frequency dictionary"
   ]
  },
  {
   "cell_type": "code",
   "execution_count": 2,
   "metadata": {},
   "outputs": [
    {
     "output_type": "execute_result",
     "data": {
      "text/plain": "({'Σ': 34,\n  'Φ': 23,\n  'Ψ': 74,\n  'Ξ': 31,\n  'Δ': 53,\n  'λ': 31,\n  'Λ': 24,\n  'ξ': 4,\n  'ϗ': 16,\n  'ϑ': 26,\n  'Θ': 6,\n  'ζ': 3,\n  'β': 6,\n  'φ': 3,\n  'ϖ': 12,\n  'Π': 9,\n  'Ω': 3,\n  'Γ': 3,\n  'α': 8,\n  'Ρ': 1,\n  'μ': 6,\n  'ε': 1,\n  'η': 2},\n 'Total Different Symbols: 23')"
     },
     "metadata": {},
     "execution_count": 2
    }
   ],
   "source": [
    "frec_dictionary = {}\n",
    "for letter in challenge_msg:\n",
    "    if letter in frec_dictionary:\n",
    "        frec_dictionary[letter] = frec_dictionary[letter] + 1\n",
    "    else:\n",
    "        frec_dictionary.update({letter: 1})\n",
    "\n",
    "frec_dictionary, \"Total Different Symbols: \" + str(len(frec_dictionary))"
   ]
  },
  {
   "cell_type": "markdown",
   "metadata": {},
   "source": [
    "Interesting. It may be that the symbols represent letters of some type of alphabet\n",
    "\n",
    "From the dictionary, get an array of keys arranged in decreasing order according to the value of their frequency"
   ]
  },
  {
   "cell_type": "code",
   "execution_count": 3,
   "metadata": {},
   "outputs": [
    {
     "output_type": "execute_result",
     "data": {
      "text/plain": "array(['Ψ', 'Δ', 'Σ', 'Ξ', 'λ', 'ϑ', 'Λ', 'Φ', 'ϗ', 'ϖ', 'Π', 'α', 'Θ',\n       'β', 'μ', 'ξ', 'ζ', 'φ', 'Ω', 'Γ', 'η', 'Ρ', 'ε'], dtype='<U1')"
     },
     "metadata": {},
     "execution_count": 3
    }
   ],
   "source": [
    "import numpy as np\n",
    "\n",
    "letters = np.array(sorted(frec_dictionary, key=frec_dictionary.get, reverse=True))\n",
    "letters"
   ]
  },
  {
   "cell_type": "markdown",
   "metadata": {},
   "source": [
    "Let's make a string with the distribution of the letters of some possible alphabets. First I will try spanish because the problem was presented by a company from Argentin. Then I will try English. If it doesn't work, I can try Latin (just for fun); and then other distributions.\n",
    "\n",
    "### Observation: there are no spaces between the symbol block of the secret message, so the blank space must be considered, always assuming that the message is a conversion of letters in those symbols."
   ]
  },
  {
   "cell_type": "code",
   "execution_count": 4,
   "metadata": {},
   "outputs": [
    {
     "output_type": "execute_result",
     "data": {
      "text/plain": "('Difference with Spanish: 5',\n 'Difference with English: 4',\n 'Difference with Latin: 2')"
     },
     "metadata": {},
     "execution_count": 4
    }
   ],
   "source": [
    "spanish_dist = \" EAOSRNIDLCTUMPBGVYQHFZJÑXKW\"\n",
    "english_dist = \" ETAOINSRHDLUCMFYWGPBVKXQJZ\"\n",
    "latin_dist = \" IEAUTSRNOMCLPDBQGVFHXYZK\"\n",
    "\n",
    "\"Difference with Spanish: \" + str(len(spanish_dist) - len(letters)), \"Difference with English: \" + str(len(english_dist) - len(letters)), \"Difference with Latin: \" + str(len(latin_dist) - len(letters))"
   ]
  },
  {
   "cell_type": "markdown",
   "metadata": {},
   "source": [
    "The message contains fewer symbols than the alphabets I thought. It may not be an alphabet, or simply because the \"sample\" (the message) is not large enough to contain all the letters. However, I will give this hypothesis a chance because it is still quite likely.\n",
    "\n",
    "Now, I loop through the message and replace the symbols with respect to their equivalent position in the distribution of Spanish, English and Latin (for now only those 3)."
   ]
  },
  {
   "cell_type": "code",
   "execution_count": 5,
   "metadata": {},
   "outputs": [],
   "source": [
    "def decipher(distribution):\n",
    "    decoded_message = np.zeros(len(challenge_msg), dtype='str')\n",
    "    for i in range(len(challenge_msg)):\n",
    "        for j in range(len(letters)):\n",
    "            if challenge_msg[i] == letters[j]:\n",
    "                decoded_message[i] = distribution[j]\n",
    "    decoded_message = \"\".join(decoded_message)    \n",
    "    return decoded_message"
   ]
  },
  {
   "cell_type": "code",
   "execution_count": 6,
   "metadata": {},
   "outputs": [
    {
     "output_type": "execute_result",
     "data": {
      "text/plain": "'AI OES ENAIES BEDOEI ORS NAURODIRS AO SRO GMAVE AI AO BNDOOR LAO CALNAVEO Y CNAILDLR E OE UEVDE LA ORS QEUDIRS AO ENNDANR TE AO ENNDANR TE AS BEILANE LA IDABOE SM CRIQFR EO TDAIPR OR SEOMLEI OES ZOEMPES LAO CEGRIEO Y EIDUEILR OE PNRCE CEN ASRS QANNRS AO ENNDANR TE AO ENNDANR TE OES CAIES Y OES TEHMDPES SA TEI CEN OE UDSUE SAILE OES CAIES SRI LA IRSRPNRS OES TEHMDPES SRI EGAIES'"
     },
     "metadata": {},
     "execution_count": 6
    }
   ],
   "source": [
    "decipher(spanish_dist)"
   ]
  },
  {
   "cell_type": "code",
   "execution_count": 7,
   "metadata": {},
   "outputs": [
    {
     "output_type": "execute_result",
     "data": {
      "text/plain": "'TS AEO ENTSEO FERAES AIO NTUIARSIO TA OIA YCTWE TS TA FNRAAI HTA DTHNTWEA G DNTSHRHI E AE UEWRE HT AIO PEURSIO TA ENNRTNI LE TA ENNRTNI LE TO FESHTNE HT SRTFAE OC DISPVI EA LRTSMI AI OEACHES AEO KAECMEO HTA DEYISEA G ESRUESHI AE MNIDE DEN TOIO PTNNIO TA ENNRTNI LE TA ENNRTNI LE AEO DTSEO G AEO LEBCRMEO OT LES DEN AE UROUE OTSHE AEO DTSEO OIS HT SIOIMNIO AEO LEBCRMEO OIS EYTSEO'"
     },
     "metadata": {},
     "execution_count": 7
    }
   ],
   "source": [
    "decipher(english_dist)"
   ]
  },
  {
   "cell_type": "code",
   "execution_count": 8,
   "metadata": {},
   "outputs": [
    {
     "output_type": "execute_result",
     "data": {
      "text/plain": "'ER AIU ISERIU BINAIR ATU SELTANRTU EA UTA QPEGI ER EA BSNAAT OEA MEOSEGIA V MSERONOT I AI LIGNI OE ATU FILNRTU EA ISSNEST CI EA ISSNEST CI EU BIROESI OE RNEBAI UP MTRFXT IA CNERDT AT UIAPOIR AIU YAIPDIU OEA MIQTRIA V IRNLIROT AI DSTMI MIS EUTU FESSTU EA ISSNEST CI EA ISSNEST CI AIU MERIU V AIU CIHPNDIU UE CIR MIS AI LNULI UEROI AIU MERIU UTR OE RTUTDSTU AIU CIHPNDIU UTR IQERIU'"
     },
     "metadata": {},
     "execution_count": 8
    }
   ],
   "source": [
    "decipher(latin_dist)"
   ]
  },
  {
   "cell_type": "markdown",
   "metadata": {},
   "source": [
    "Ok, now I'm sure. That seems like real words. I will mantain Spanish for the moment,I bet that the message is in one of this languages (or maybe other similar?) and codified like this: replacing one symbol by one symbol. If this is true, the _first word has two symbols, and the second has three_.\n",
    "\n",
    "But, as I said before, the 'sample' isn't big enough to represent exactly a distribution. So, I will try with permutations of the most frecuently symbols, filtering the most I can, and iterate over the message again. First with Spanish.\n",
    "\n",
    "## Observation: I will filter by some two-letters and three-letters most common Spanish words (that makes sence to be the first two words of a text, in this case, the secret message) the results of possible distribution because there are a hugh number of them."
   ]
  },
  {
   "cell_type": "code",
   "execution_count": 9,
   "metadata": {},
   "outputs": [
    {
     "output_type": "execute_result",
     "data": {
      "text/plain": "([' EAOSRNIDLCTUMPBGVYQHFZJÑXKW',\n  ' EAOSRNILDCTUMPBGVYQHFZJÑXKW',\n  ' EAOSRNDILCTUMPBGVYQHFZJÑXKW',\n  ' EAOSRNDLICTUMPBGVYQHFZJÑXKW',\n  ' EAOSRNLIDCTUMPBGVYQHFZJÑXKW',\n  ' EAOSRNLDICTUMPBGVYQHFZJÑXKW',\n  ' EAOSRINDLCTUMPBGVYQHFZJÑXKW',\n  ' EAOSRINLDCTUMPBGVYQHFZJÑXKW',\n  ' EAOSRIDNLCTUMPBGVYQHFZJÑXKW',\n  ' EAOSRIDLNCTUMPBGVYQHFZJÑXKW',\n  ' EAOSRILNDCTUMPBGVYQHFZJÑXKW',\n  ' EAOSRILDNCTUMPBGVYQHFZJÑXKW',\n  ' EAOSRDNILCTUMPBGVYQHFZJÑXKW',\n  ' EAOSRDNLICTUMPBGVYQHFZJÑXKW',\n  ' EAOSRDINLCTUMPBGVYQHFZJÑXKW',\n  ' EAOSRDILNCTUMPBGVYQHFZJÑXKW',\n  ' EAOSRDLNICTUMPBGVYQHFZJÑXKW',\n  ' EAOSRDLINCTUMPBGVYQHFZJÑXKW',\n  ' EAOSRLNIDCTUMPBGVYQHFZJÑXKW',\n  ' EAOSRLNDICTUMPBGVYQHFZJÑXKW'],\n '...Total: 151200')"
     },
     "metadata": {},
     "execution_count": 9
    }
   ],
   "source": [
    "from itertools import permutations\n",
    "symbols_perms = [p for p in permutations(spanish_dist[1:10])]\n",
    "\n",
    "spanish_dist_modified = []\n",
    "for text in symbols_perms:\n",
    "    spanish_dist_modified.append(spanish_dist[0] + \"\".join(text) + spanish_dist[10:])\n",
    "\n",
    "spanish_dist_modified = list(filter(lambda x: x[1] in ['E', 'A', 'O', 'S', 'R', 'N'] and x[2] in ['E', 'A', 'O', 'S', 'R', 'N'], spanish_dist_modified))\n",
    "\n",
    "# Showing only the first results\n",
    "spanish_dist_modified[:20], \"...Total: \" + str(len(spanish_dist_modified))"
   ]
  },
  {
   "cell_type": "code",
   "execution_count": 10,
   "metadata": {},
   "outputs": [],
   "source": [
    "def spanish_words_filter(word1, word2):\n",
    "    if word1 in ['LA', 'EL', 'LO', 'DE', 'AL', 'EN', 'TU', 'YO', 'MI', 'SI', 'NO', 'TE', 'SE', 'SU', 'ES', 'HA', 'YA', 'ME']:\n",
    "        if word2 in ['LAS', 'LOS', 'LES', 'CON', 'POR', 'SIN', 'QUE', 'DEL', 'UNA', 'MAS', 'SUS', 'SIN', 'SER', 'UNO', 'DOS', 'MIL', 'ERA', 'MUY', 'FUE']:\n",
    "            return True\n",
    "    return False\n",
    "\n",
    "# Provitional filter for the first two words, aplied on the first six (I will try to find a meaningful phrase). That is 34 symbols.\n",
    "def decipher_firsts(distribution):\n",
    "    decoded_message = np.zeros(len(challenge_msg), dtype='str')\n",
    "    six_words = 34\n",
    "    for i in range(six_words):\n",
    "        for j in range(len(letters)):\n",
    "            if challenge_msg[i] == letters[j]:\n",
    "                decoded_message[i] = distribution[j]\n",
    "    decoded_message = \"\".join(decoded_message)    \n",
    "    return decoded_message"
   ]
  },
  {
   "cell_type": "code",
   "execution_count": 11,
   "metadata": {},
   "outputs": [
    {
     "output_type": "execute_result",
     "data": {
      "text/plain": "PBGVYQHFZJÑXKW',\n  'NO SER EDNOER BEASEO SIR DNUISAOIR --- dist: ENSRIDOALCTUMPBGVYQHFZJÑXKW',\n  'NO SER EDNOER BELSEO SIR DNUISLOIR --- dist: ENSRIDOLACTUMPBGVYQHFZJÑXKW',\n  'NO SER ELNOER BEASEO SIR LNUISAOIR --- dist: ENSRILOADCTUMPBGVYQHFZJÑXKW',\n  'NO SER ELNOER BEDSEO SIR LNUISDOIR --- dist: ENSRILODACTUMPBGVYQHFZJÑXKW',\n  'NO SER EANOER BEISEO SDR ANUDSIODR --- dist: ENSRDAOILCTUMPBGVYQHFZJÑXKW',\n  'NO SER EANOER BELSEO SDR ANUDSLODR --- dist: ENSRDAOLICTUMPBGVYQHFZJÑXKW',\n  'NO SER EINOER BEASEO SDR INUDSAODR --- dist: ENSRDIOALCTUMPBGVYQHFZJÑXKW',\n  'NO SER EINOER BELSEO SDR INUDSLODR --- dist: ENSRDIOLACTUMPBGVYQHFZJÑXKW',\n  'NO SER ELNOER BEASEO SDR LNUDSAODR --- dist: ENSRDLOAICTUMPBGVYQHFZJÑXKW',\n  'NO SER ELNOER BEISEO SDR LNUDSIODR --- dist: ENSRDLOIACTUMPBGVYQHFZJÑXKW',\n  'NO SER EANOER BEISEO SLR ANULSIOLR --- dist: ENSRLAOIDCTUMPBGVYQHFZJÑXKW',\n  'NO SER EANOER BEDSEO SLR ANULSDOLR --- dist: ENSRLAODICTUMPBGVYQHFZJÑXKW',\n  'NO SER EINOER BEASEO SLR INULSAOLR --- dist: ENSRLIOADCTUMPBGVYQHFZJÑXKW',\n  'NO SER EINOER BEDSEO SLR INULSDOLR --- dist: ENSRLIODACTUMPBGVYQHFZJÑXKW',\n  'NO SER EDNOER BEASEO SLR DNULSAOLR --- dist: ENSRLDOAICTUMPBGVYQHFZJÑXKW',\n  'NO SER EDNOER BEISEO SLR DNULSIOLR --- dist: ENSRLDOIACTUMPBGVYQHFZJÑXKW',\n  'NO DEL ESNOEL BERDEO DAL SNUADROAL --- dist: ENDLASORICTUMPBGVYQHFZJÑXKW',\n  'NO DEL ESNOEL BEIDEO DAL SNUADIOAL --- dist: ENDLASOIRCTUMPBGVYQHFZJÑXKW',\n  'NO DEL ERNOEL BESDEO DAL RNUADSOAL --- dist: ENDLAROSICTUMPBGVYQHFZJÑXKW',\n  'NO DEL ERNOEL BEIDEO DAL RNUADIOAL --- dist: ENDLAROISCTUMPBGVYQHFZJÑXKW',\n  'NO DEL EINOEL BESDEO DAL INUADSOAL --- dist: ENDLAIOSRCTUMPBGVYQHFZJÑXKW',\n  'NO DEL EINOEL BERDEO DAL INUADROAL --- dist: ENDLAIORSCTUMPBGVYQHFZJÑXKW',\n  'NO DEL EANOEL BERDEO DSL ANUSDROSL --- dist: ENDLSAORICTUMPBGVYQHFZJÑXKW',\n  'NO DEL EANOEL BEIDEO DSL ANUSDIOSL --- dist: ENDLSAOIRCTUMPBGVYQHFZJÑXKW',\n  'NO DEL ERNOEL BEADEO DSL RNUSDAOSL --- dist: ENDLSROAICTUMPBGVYQHFZJÑXKW',\n  'NO DEL ERNOEL BEIDEO DSL RNUSDIOSL --- dist: ENDLSROIACTUMPBGVYQHFZJÑXKW',\n  'NO DEL EINOEL BEADEO DSL INUSDAOSL --- dist: ENDLSIOARCTUMPBGVYQHFZJÑXKW',\n  'NO DEL EINOEL BERDEO DSL INUSDROSL --- dist: ENDLSIORACTUMPBGVYQHFZJÑXKW',\n  'NO DEL EANOEL BESDEO DRL ANURDSORL --- dist: ENDLRAOSICTUMPBGVYQHFZJÑXKW',\n  'NO DEL EANOEL BEIDEO DRL ANURDIORL --- dist: ENDLRAOISCTUMPBGVYQHFZJÑXKW',\n  'NO DEL ESNOEL BEADEO DRL SNURDAORL --- dist: ENDLRSOAICTUMPBGVYQHFZJÑXKW',\n  'NO DEL ESNOEL BEIDEO DRL SNURDIORL --- dist: ENDLRSOIACTUMPBGVYQHFZJÑXKW',\n  'NO DEL EINOEL BEADEO DRL INURDAORL --- dist: ENDLRIOASCTUMPBGVYQHFZJÑXKW',\n  'NO DEL EINOEL BESDEO DRL INURDSORL --- dist: ENDLRIOSACTUMPBGVYQHFZJÑXKW',\n  'NO DEL EANOEL BESDEO DIL ANUIDSOIL --- dist: ENDLIAOSRCTUMPBGVYQHFZJÑXKW',\n  'NO DEL EANOEL BERDEO DIL ANUIDROIL --- dist: ENDLIAORSCTUMPBGVYQHFZJÑXKW',\n  'NO DEL ESNOEL BEADEO DIL SNUIDAOIL --- dist: ENDLISOARCTUMPBGVYQHFZJÑXKW',\n  'NO DEL ESNOEL BERDEO DIL SNUIDROIL --- dist: ENDLISORACTUMPBGVYQHFZJÑXKW',\n  'NO DEL ERNOEL BEADEO DIL RNUIDAOIL --- dist: ENDLIROASCTUMPBGVYQHFZJÑXKW',\n  'NO DEL ERNOEL BESDEO DIL RNUIDSOIL --- dist: ENDLIROSACTUMPBGVYQHFZJÑXKW',\n  'NO LES ERNOES BEILEO LAS RNUALIOAS --- dist: ENLSAROIDCTUMPBGVYQHFZJÑXKW',\n  'NO LES ERNOES BEDLEO LAS RNUALDOAS --- dist: ENLSARODICTUMPBGVYQHFZJÑXKW',\n  'NO LES EINOES BERLEO LAS INUALROAS --- dist: ENLSAIORDCTUMPBGVYQHFZJÑXKW',\n  'NO LES EINOES BEDLEO LAS INUALDOAS --- dist: ENLSAIODRCTUMPBGVYQHFZJÑXKW',\n  'NO LES EDNOES BERLEO LAS DNUALROAS --- dist: ENLSADORICTUMPBGVYQHFZJÑXKW',\n  'NO LES EDNOES BEILEO LAS DNUALIOAS --- dist: ENLSADOIRCTUMPBGVYQHFZJÑXKW',\n  'NO LES EANOES BEILEO LRS ANURLIORS --- dist: ENLSRAOIDCTUMPBGVYQHFZJÑXKW',\n  'NO LES EANOES BEDLEO LRS ANURLDORS --- dist: ENLSRAODICTUMPBGVYQHFZJÑXKW',\n  'NO LES EINOES BEALEO LRS INURLAORS --- dist: ENLSRIOADCTUMPBGVYQHFZJÑXKW',\n  'NO LES EINOES BEDLEO LRS INURLDORS --- dist: ENLSRIODACTUMPBGVYQHFZJÑXKW',\n  'NO LES EDNOES BEALEO LRS DNURLAORS --- dist: ENLSRDOAICTUMPBGVYQHFZJÑXKW',\n  'NO LES EDNOES BEILEO LRS DNURLIORS --- dist: ENLSRDOIACTUMPBGVYQHFZJÑXKW',\n  'NO LES EANOES BERLEO LIS ANUILROIS --- dist: ENLSIAORDCTUMPBGVYQHFZJÑXKW',\n  'NO LES EANOES BEDLEO LIS ANUILDOIS --- dist: ENLSIAODRCTUMPBGVYQHFZJÑXKW',\n  'NO LES ERNOES BEALEO LIS RNUILAOIS --- dist: ENLSIROADCTUMPBGVYQHFZJÑXKW',\n  'NO LES ERNOES BEDLEO LIS RNUILDOIS --- dist: ENLSIRODACTUMPBGVYQHFZJÑXKW',\n  'NO LES EDNOES BEALEO LIS DNUILAOIS --- dist: ENLSIDOARCTUMPBGVYQHFZJÑXKW',\n  'NO LES EDNOES BERLEO LIS DNUILROIS --- dist: ENLSIDORACTUMPBGVYQHFZJÑXKW',\n  'NO LES EANOES BERLEO LDS ANUDLRODS --- dist: ENLSDAORICTUMPBGVYQHFZJÑXKW',\n  'NO LES EANOES BEILEO LDS ANUDLIODS --- dist: ENLSDAOIRCTUMPBGVYQHFZJÑXKW',\n  'NO LES ERNOES BEALEO LDS RNUDLAODS --- dist: ENLSDROAICTUMPBGVYQHFZJÑXKW',\n  'NO LES ERNOES BEILEO LDS RNUDLIODS --- dist: ENLSDROIACTUMPBGVYQHFZJÑXKW',\n  'NO LES EINOES BEALEO LDS INUDLAODS --- dist: ENLSDIOARCTUMPBGVYQHFZJÑXKW',\n  'NO LES EINOES BERLEO LDS INUDLRODS --- dist: ENLSDIORACTUMPBGVYQHFZJÑXKW',\n  'EN LAS ARENAS BAILAN LOS REUOLINOS --- dist: AELSORNIDCTUMPBGVYQHFZJÑXKW',\n  'EN LAS ARENAS BADLAN LOS REUOLDNOS --- dist: AELSORNDICTUMPBGVYQHFZJÑXKW',\n  'EN LAS AIENAS BARLAN LOS IEUOLRNOS --- dist: AELSOINRDCTUMPBGVYQHFZJÑXKW',\n  'EN LAS AIENAS BADLAN LOS IEUOLDNOS --- dist: AELSOINDRCTUMPBGVYQHFZJÑXKW',\n  'EN LAS ADENAS BARLAN LOS DEUOLRNOS --- dist: AELSODNRICTUMPBGVYQHFZJÑXKW',\n  'EN LAS ADENAS BAILAN LOS DEUOLINOS --- dist: AELSODNIRCTUMPBGVYQHFZJÑXKW',\n  'EN LAS AOENAS BAILAN LRS OEURLINRS --- dist: AELSRONIDCTUMPBGVYQHFZJÑXKW',\n  'EN LAS AOENAS BADLAN LRS OEURLDNRS --- dist: AELSRONDICTUMPBGVYQHFZJÑXKW',\n  'EN LAS AIENAS BAOLAN LRS IEURLONRS --- dist: AELSRINODCTUMPBGVYQHFZJÑXKW',\n  'EN LAS AIENAS BADLAN LRS IEURLDNRS --- dist: AELSRINDOCTUMPBGVYQHFZJÑXKW',\n  'EN LAS ADENAS BAOLAN LRS DEURLONRS --- dist: AELSRDNOICTUMPBGVYQHFZJÑXKW',\n  'EN LAS ADENAS BAILAN LRS DEURLINRS --- dist: AELSRDNIOCTUMPBGVYQHFZJÑXKW',\n  'EN LAS AOENAS BARLAN LIS OEUILRNIS --- dist: AELSIONRDCTUMPBGVYQHFZJÑXKW',\n  'EN LAS AOENAS BADLAN LIS OEUILDNIS --- dist: AELSIONDRCTUMPBGVYQHFZJÑXKW',\n  'EN LAS ARENAS BAOLAN LIS REUILONIS --- dist: AELSIRNODCTUMPBGVYQHFZJÑXKW',\n  'EN LAS ARENAS BADLAN LIS REUILDNIS --- dist: AELSIRNDOCTUMPBGVYQHFZJÑXKW',\n  'EN LAS ADENAS BAOLAN LIS DEUILONIS --- dist: AELSIDNORCTUMPBGVYQHFZJÑXKW',\n  'EN LAS ADENAS BARLAN LIS DEUILRNIS --- dist: AELSIDNROCTUMPBGVYQHFZJÑXKW',\n  'EN LAS AOENAS BARLAN LDS OEUDLRNDS --- dist: AELSDONRICTUMPBGVYQHFZJÑXKW',\n  'EN LAS AOENAS BAILAN LDS OEUDLINDS --- dist: AELSDONIRCTUMPBGVYQHFZJÑXKW',\n  'EN LAS ARENAS BAOLAN LDS REUDLONDS --- dist: AELSDRNOICTUMPBGVYQHFZJÑXKW',\n  'EN LAS ARENAS BAILAN LDS REUDLINDS --- dist: AELSDRNIOCTUMPBGVYQHFZJÑXKW',\n  'EN LAS AIENAS BAOLAN LDS IEUDLONDS --- dist: AELSDINORCTUMPBGVYQHFZJÑXKW',\n  'EN LAS AIENAS BARLAN LDS IEUDLRNDS --- dist: AELSDINROCTUMPBGVYQHFZJÑXKW',\n  'NO LAS ARNOAS BAILAO LES RNUELIOES --- dist: ANLSEROIDCTUMPBGVYQHFZJÑXKW',\n  'NO LAS ARNOAS BADLAO LES RNUELDOES --- dist: ANLSERODICTUMPBGVYQHFZJÑXKW',\n  'NO LAS AINOAS BARLAO LES INUELROES --- dist: ANLSEIORDCTUMPBGVYQHFZJÑXKW',\n  'NO LAS AINOAS BADLAO LES INUELDOES --- dist: ANLSEIODRCTUMPBGVYQHFZJÑXKW',\n  'NO LAS ADNOAS BARLAO LES DNUELROES --- dist: ANLSEDORICTUMPBGVYQHFZJÑXKW',\n  'NO LAS ADNOAS BAILAO LES DNUELIOES --- dist: ANLSEDOIRCTUMPBGVYQHFZJÑXKW',\n  'NO LAS AENOAS BAILAO LRS ENURLIORS --- dist: ANLSREOIDCTUMPBGVYQHFZJÑXKW',\n  'NO LAS AENOAS BADLAO LRS ENURLDORS --- dist: ANLSREODICTUMPBGVYQHFZJÑXKW',\n  'NO LAS AINOAS BAELAO LRS INURLEORS --- dist: ANLSRIOEDCTUMPBGVYQHFZJÑXKW',\n  'NO LAS AINOAS BADLAO LRS INURLDORS --- dist: ANLSRIODECTUMPBGVYQHFZJÑXKW',\n  'NO LAS ADNOAS BAELAO LRS DNURLEORS --- dist: ANLSRDOEICTUMPBGVYQHFZJÑXKW',\n  'NO LAS ADNOAS BAILAO LRS DNURLIORS --- dist: ANLSRDOIECTUMPBGVYQHFZJÑXKW',\n  'NO LAS AENOAS BARLAO LIS ENUILROIS --- dist: ANLSIEORDCTUMPBGVYQHFZJÑXKW',\n  'NO LAS AENOAS BADLAO LIS ENUILDOIS --- dist: ANLSIEODRCTUMPBGVYQHFZJÑXKW',\n  'NO LAS ARNOAS BAELAO LIS RNUILEOIS --- dist: ANLSIROEDCTUMPBGVYQHFZJÑXKW',\n  'NO LAS ARNOAS BADLAO LIS RNUILDOIS --- dist: ANLSIRODECTUMPBGVYQHFZJÑXKW',\n  'NO LAS ADNOAS BAELAO LIS DNUILEOIS --- dist: ANLSIDOERCTUMPBGVYQHFZJÑXKW',\n  'NO LAS ADNOAS BARLAO LIS DNUILROIS --- dist: ANLSIDORECTUMPBGVYQHFZJÑXKW',\n  'NO LAS AENOAS BARLAO LDS ENUDLRODS --- dist: ANLSDEORICTUMPBGVYQHFZJÑXKW',\n  'NO LAS AENOAS BAILAO LDS ENUDLIODS --- dist: ANLSDEOIRCTUMPBGVYQHFZJÑXKW',\n  'NO LAS ARNOAS BAELAO LDS RNUDLEODS --- dist: ANLSDROEICTUMPBGVYQHFZJÑXKW',\n  'NO LAS ARNOAS BAILAO LDS RNUDLIODS --- dist: ANLSDROIECTUMPBGVYQHFZJÑXKW',\n  'NO LAS AINOAS BAELAO LDS INUDLEODS --- dist: ANLSDIOERCTUMPBGVYQHFZJÑXKW',\n  'NO LAS AINOAS BARLAO LDS INUDLRODS --- dist: ANLSDIORECTUMPBGVYQHFZJÑXKW',\n  'EN DOS ORENOS BOIDON DAS REUADINAS --- dist: OEDSARNILCTUMPBGVYQHFZJÑXKW',\n  'EN DOS ORENOS BOLDON DAS REUADLNAS --- dist: OEDSARNLICTUMPBGVYQHFZJÑXKW',\n  'EL DOS ORELOS BONDOL DAS REUADNLAS --- dist: OEDSARLNICTUMPBGVYQHFZJÑXKW',\n  'EL DOS ORELOS BOIDOL DAS REUADILAS --- dist: OEDSARLINCTUMPBGVYQHFZJÑXKW',\n  'EL DOS ONELOS BORDOL DAS NEUADRLAS --- dist: OEDSANLRICTUMPBGVYQHFZJÑXKW',\n  'EL DOS ONELOS BOIDOL DAS NEUADILAS --- dist: OEDSANLIRCTUMPBGVYQHFZJÑXKW',\n  'EN DOS OIENOS BORDON DAS IEUADRNAS --- dist: OEDSAINRLCTUMPBGVYQHFZJÑXKW',\n  'EN DOS OIENOS BOLDON DAS IEUADLNAS --- dist: OEDSAINLRCTUMPBGVYQHFZJÑXKW',\n  'EL DOS OIELOS BORDOL DAS IEUADRLAS --- dist: OEDSAILRNCTUMPBGVYQHFZJÑXKW',\n  'EL DOS OIELOS BONDOL DAS IEUADNLAS --- dist: OEDSAILNRCTUMPBGVYQHFZJÑXKW',\n  'EN DOS OLENOS BORDON DAS LEUADRNAS --- dist: OEDSALNRICTUMPBGVYQHFZJÑXKW',\n  'EN DOS OLENOS BOIDON DAS LEUADINAS --- dist: OEDSALNIRCTUMPBGVYQHFZJÑXKW',\n  'EN DOS OAENOS BOIDON DRS AEURDINRS --- dist: OEDSRANILCTUMPBGVYQHFZJÑXKW',\n  'EN DOS OAENOS BOLDON DRS AEURDLNRS --- dist: OEDSRANLICTUMPBGVYQHFZJÑXKW',\n  'EL DOS OAELOS BONDOL DRS AEURDNLRS --- dist: OEDSRALNICTUMPBGVYQHFZJÑXKW',\n  'EL DOS OAELOS BOIDOL DRS AEURDILRS --- dist: OEDSRALINCTUMPBGVYQHFZJÑXKW',\n  'EL DOS ONELOS BOADOL DRS NEURDALRS --- dist: OEDSRNLAICTUMPBGVYQHFZJÑXKW',\n  'EL DOS ONELOS BOIDOL DRS NEURDILRS --- dist: OEDSRNLIACTUMPBGVYQHFZJÑXKW',\n  'EN DOS OIENOS BOADON DRS IEURDANRS --- dist: OEDSRINALCTUMPBGVYQHFZJÑXKW',\n  'EN DOS OIENOS BOLDON DRS IEURDLNRS --- dist: OEDSRINLACTUMPBGVYQHFZJÑXKW',\n  'EL DOS OIELOS BOADOL DRS IEURDALRS --- dist: OEDSRILANCTUMPBGVYQHFZJÑXKW',\n  'EL DOS OIELOS BONDOL DRS IEURDNLRS --- dist: OEDSRILNACTUMPBGVYQHFZJÑXKW',\n  'EN DOS OLENOS BOADON DRS LEURDANRS --- dist: OEDSRLNAICTUMPBGVYQHFZJÑXKW',\n  'EN DOS OLENOS BOIDON DRS LEURDINRS --- dist: OEDSRLNIACTUMPBGVYQHFZJÑXKW',\n  'EL DOS OAELOS BORDOL DNS AEUNDRLNS --- dist: OEDSNALRICTUMPBGVYQHFZJÑXKW',\n  'EL DOS OAELOS BOIDOL DNS AEUNDILNS --- dist: OEDSNALIRCTUMPBGVYQHFZJÑXKW',\n  'EL DOS ORELOS BOADOL DNS REUNDALNS --- dist: OEDSNRLAICTUMPBGVYQHFZJÑXKW',\n  'EL DOS ORELOS BOIDOL DNS REUNDILNS --- dist: OEDSNRLIACTUMPBGVYQHFZJÑXKW',\n  'EL DOS OIELOS BOADOL DNS IEUNDALNS --- dist: OEDSNILARCTUMPBGVYQHFZJÑXKW',\n  'EL DOS OIELOS BORDOL DNS IEUNDRLNS --- dist: OEDSNILRACTUMPBGVYQHFZJÑXKW',\n  'EN DOS OAENOS BORDON DIS AEUIDRNIS --- dist: OEDSIANRLCTUMPBGVYQHFZJÑXKW',\n  'EN DOS OAENOS BOLDON DIS AEUIDLNIS --- dist: OEDSIANLRCTUMPBGVYQHFZJÑXKW',\n  'EL DOS OAELOS BORDOL DIS AEUIDRLIS --- dist: OEDSIALRNCTUMPBGVYQHFZJÑXKW',\n  'EL DOS OAELOS BONDOL DIS AEUIDNLIS --- dist: OEDSIALNRCTUMPBGVYQHFZJÑXKW',\n  'EN DOS ORENOS BOADON DIS REUIDANIS --- dist: OEDSIRNALCTUMPBGVYQHFZJÑXKW',\n  'EN DOS ORENOS BOLDON DIS REUIDLNIS --- dist: OEDSIRNLACTUMPBGVYQHFZJÑXKW',\n  'EL DOS ORELOS BOADOL DIS REUIDALIS --- dist: OEDSIRLANCTUMPBGVYQHFZJÑXKW',\n  'EL DOS ORELOS BONDOL DIS REUIDNLIS --- dist: OEDSIRLNACTUMPBGVYQHFZJÑXKW',\n  'EL DOS ONELOS BOADOL DIS NEUIDALIS --- dist: OEDSINLARCTUMPBGVYQHFZJÑXKW',\n  'EL DOS ONELOS BORDOL DIS NEUIDRLIS --- dist: OEDSINLRACTUMPBGVYQHFZJÑXKW',\n  'EN DOS OLENOS BOADON DIS LEUIDANIS --- dist: OEDSILNARCTUMPBGVYQHFZJÑXKW',\n  'EN DOS OLENOS BORDON DIS LEUIDRNIS --- dist: OEDSILNRACTUMPBGVYQHFZJÑXKW',\n  'EN DOS OAENOS BORDON DLS AEULDRNLS --- dist: OEDSLANRICTUMPBGVYQHFZJÑXKW',\n  'EN DOS OAENOS BOIDON DLS AEULDINLS --- dist: OEDSLANIRCTUMPBGVYQHFZJÑXKW',\n  'EN DOS ORENOS BOADON DLS REULDANLS --- dist: OEDSLRNAICTUMPBGVYQHFZJÑXKW',\n  'EN DOS ORENOS BOIDON DLS REULDINLS --- dist: OEDSLRNIACTUMPBGVYQHFZJÑXKW',\n  'EN DOS OIENOS BOADON DLS IEULDANLS --- dist: OEDSLINARCTUMPBGVYQHFZJÑXKW',\n  'EN DOS OIENOS BORDON DLS IEULDRNLS --- dist: OEDSLINRACTUMPBGVYQHFZJÑXKW',\n  'EN LOS ORENOS BOILON LAS REUALINAS --- dist: OELSARNIDCTUMPBGVYQHFZJÑXKW',\n  'EN LOS ORENOS BODLON LAS REUALDNAS --- dist: OELSARNDICTUMPBGVYQHFZJÑXKW',\n  'EN LOS OIENOS BORLON LAS IEUALRNAS --- dist: OELSAINRDCTUMPBGVYQHFZJÑXKW',\n  'EN LOS OIENOS BODLON LAS IEUALDNAS --- dist: OELSAINDRCTUMPBGVYQHFZJÑXKW',\n  'EN LOS ODENOS BORLON LAS DEUALRNAS --- dist: OELSADNRICTUMPBGVYQHFZJÑXKW',\n  'EN LOS ODENOS BOILON LAS DEUALINAS --- dist: OELSADNIRCTUMPBGVYQHFZJÑXKW',\n  'EN LOS OAENOS BOILON LRS AEURLINRS --- dist: OELSRANIDCTUMPBGVYQHFZJÑXKW',\n  'EN LOS OAENOS BODLON LRS AEURLDNRS --- dist: OELSRANDICTUMPBGVYQHFZJÑXKW',\n  'EN LOS OIENOS BOALON LRS IEURLANRS --- dist: OELSRINADCTUMPBGVYQHFZJÑXKW',\n  'EN LOS OIENOS BODLON LRS IEURLDNRS --- dist: OELSRINDACTUMPBGVYQHFZJÑXKW',\n  'EN LOS ODENOS BOALON LRS DEURLANRS --- dist: OELSRDNAICTUMPBGVYQHFZJÑXKW',\n  'EN LOS ODENOS BOILON LRS DEURLINRS --- dist: OELSRDNIACTUMPBGVYQHFZJÑXKW',\n  'EN LOS OAENOS BORLON LIS AEUILRNIS --- dist: OELSIANRDCTUMPBGVYQHFZJÑXKW',\n  'EN LOS OAENOS BODLON LIS AEUILDNIS --- dist: OELSIANDRCTUMPBGVYQHFZJÑXKW',\n  'EN LOS ORENOS BOALON LIS REUILANIS --- dist: OELSIRNADCTUMPBGVYQHFZJÑXKW',\n  'EN LOS ORENOS BODLON LIS REUILDNIS --- dist: OELSIRNDACTUMPBGVYQHFZJÑXKW',\n  'EN LOS ODENOS BOALON LIS DEUILANIS --- dist: OELSIDNARCTUMPBGVYQHFZJÑXKW',\n  'EN LOS ODENOS BORLON LIS DEUILRNIS --- dist: OELSIDNRACTUMPBGVYQHFZJÑXKW',\n  'EN LOS OAENOS BORLON LDS AEUDLRNDS --- dist: OELSDANRICTUMPBGVYQHFZJÑXKW',\n  'EN LOS OAENOS BOILON LDS AEUDLINDS --- dist: OELSDANIRCTUMPBGVYQHFZJÑXKW',\n  'EN LOS ORENOS BOALON LDS REUDLANDS --- dist: OELSDRNAICTUMPBGVYQHFZJÑXKW',\n  'EN LOS ORENOS BOILON LDS REUDLINDS --- dist: OELSDRNIACTUMPBGVYQHFZJÑXKW',\n  'EN LOS OIENOS BOALON LDS IEUDLANDS --- dist: OELSDINARCTUMPBGVYQHFZJÑXKW',\n  'EN LOS OIENOS BORLON LDS IEUDLRNDS --- dist: OELSDINRACTUMPBGVYQHFZJÑXKW',\n  'AL DOS ORALOS BONDOL DES RAUEDNLES --- dist: OADSERLNICTUMPBGVYQHFZJÑXKW',\n  'AL DOS ORALOS BOIDOL DES RAUEDILES --- dist: OADSERLINCTUMPBGVYQHFZJÑXKW',\n  'AL DOS ONALOS BORDOL DES NAUEDRLES --- dist: OADSENLRICTUMPBGVYQHFZJÑXKW',\n  'AL DOS ONALOS BOIDOL DES NAUEDILES --- dist: OADSENLIRCTUMPBGVYQHFZJÑXKW',\n  'AL DOS OIALOS BORDOL DES IAUEDRLES --- dist: OADSEILRNCTUMPBGVYQHFZJÑXKW',\n  'AL DOS OIALOS BONDOL DES IAUEDNLES --- dist: OADSEILNRCTUMPBGVYQHFZJÑXKW',\n  'AL DOS OEALOS BONDOL DRS EAURDNLRS --- dist: OADSRELNICTUMPBGVYQHFZJÑXKW',\n  'AL DOS OEALOS BOIDOL DRS EAURDILRS --- dist: OADSRELINCTUMPBGVYQHFZJÑXKW',\n  'AL DOS ONALOS BOEDOL DRS NAURDELRS --- dist: OADSRNLEICTUMPBGVYQHFZJÑXKW',\n  'AL DOS ONALOS BOIDOL DRS NAURDILRS --- dist: OADSRNLIECTUMPBGVYQHFZJÑXKW',\n  'AL DOS OIALOS BOEDOL DRS IAURDELRS --- dist: OADSRILENCTUMPBGVYQHFZJÑXKW',\n  'AL DOS OIALOS BONDOL DRS IAURDNLRS --- dist: OADSRILNECTUMPBGVYQHFZJÑXKW',\n  'AL DOS OEALOS BORDOL DNS EAUNDRLNS --- dist: OADSNELRICTUMPBGVYQHFZJÑXKW',\n  'AL DOS OEALOS BOIDOL DNS EAUNDILNS --- dist: OADSNELIRCTUMPBGVYQHFZJÑXKW',\n  'AL DOS ORALOS BOEDOL DNS RAUNDELNS --- dist: OADSNRLEICTUMPBGVYQHFZJÑXKW',\n  'AL DOS ORALOS BOIDOL DNS RAUNDILNS --- dist: OADSNRLIECTUMPBGVYQHFZJÑXKW',\n  'AL DOS OIALOS BOEDOL DNS IAUNDELNS --- dist: OADSNILERCTUMPBGVYQHFZJÑXKW',\n  'AL DOS OIALOS BORDOL DNS IAUNDRLNS --- dist: OADSNILRECTUMPBGVYQHFZJÑXKW',\n  'AL DOS OEALOS BORDOL DIS EAUIDRLIS --- dist: OADSIELRNCTUMPBGVYQHFZJÑXKW',\n  'AL DOS OEALOS BONDOL DIS EAUIDNLIS --- dist: OADSIELNRCTUMPBGVYQHFZJÑXKW',\n  'AL DOS ORALOS BOEDOL DIS RAUIDELIS --- dist: OADSIRLENCTUMPBGVYQHFZJÑXKW',\n  'AL DOS ORALOS BONDOL DIS RAUIDNLIS --- dist: OADSIRLNECTUMPBGVYQHFZJÑXKW',\n  'AL DOS ONALOS BOEDOL DIS NAUIDELIS --- dist: OADSINLERCTUMPBGVYQHFZJÑXKW',\n  'AL DOS ONALOS BORDOL DIS NAUIDRLIS --- dist: OADSINLRECTUMPBGVYQHFZJÑXKW',\n  'SI ERA RNSIRA BRDERI EOA NSUOEDIOA --- dist: RSEAONIDLCTUMPBGVYQHFZJÑXKW',\n  'SI ERA RNSIRA BRLERI EOA NSUOELIOA --- dist: RSEAONILDCTUMPBGVYQHFZJÑXKW',\n  'SI ERA RDSIRA BRNERI EOA DSUOENIOA --- dist: RSEAODINLCTUMPBGVYQHFZJÑXKW',\n  'SI ERA RDSIRA BRLERI EOA DSUOELIOA --- dist: RSEAODILNCTUMPBGVYQHFZJÑXKW',\n  'SI ERA RLSIRA BRNERI EOA LSUOENIOA --- dist: RSEAOLINDCTUMPBGVYQHFZJÑXKW',\n  'SI ERA RLSIRA BRDERI EOA LSUOEDIOA --- dist: RSEAOLIDNCTUMPBGVYQHFZJÑXKW',\n  'SI ERA ROSIRA BRDERI ENA OSUNEDINA --- dist: RSEANOIDLCTUMPBGVYQHFZJÑXKW',\n  'SI ERA ROSIRA BRLERI ENA OSUNELINA --- dist: RSEANOILDCTUMPBGVYQHFZJÑXKW',\n  'SI ERA RDSIRA BROERI ENA DSUNEOINA --- dist: RSEANDIOLCTUMPBGVYQHFZJÑXKW',\n  'SI ERA RDSIRA BRLERI ENA DSUNELINA --- dist: RSEANDILOCTUMPBGVYQHFZJÑXKW',\n  'SI ERA RLSIRA BROERI ENA LSUNEOINA --- dist: RSEANLIODCTUMPBGVYQHFZJÑXKW',\n  'SI ERA RLSIRA BRDERI ENA LSUNEDINA --- dist: RSEANLIDOCTUMPBGVYQHFZJÑXKW',\n  'SI ERA ROSIRA BRNERI EDA OSUDENIDA --- dist: RSEADOINLCTUMPBGVYQHFZJÑXKW',\n  'SI ERA ROSIRA BRLERI EDA OSUDELIDA --- dist: RSEADOILNCTUMPBGVYQHFZJÑXKW',\n  'SI ERA RNSIRA BROERI EDA NSUDEOIDA --- dist: RSEADNIOLCTUMPBGVYQHFZJÑXKW',\n  'SI ERA RNSIRA BRLERI EDA NSUDELIDA --- dist: RSEADNILOCTUMPBGVYQHFZJÑXKW',\n  'SI ERA RLSIRA BROERI EDA LSUDEOIDA --- dist: RSEADLIONCTUMPBGVYQHFZJÑXKW',\n  'SI ERA RLSIRA BRNERI EDA LSUDENIDA --- dist: RSEADLINOCTUMPBGVYQHFZJÑXKW',\n  'SI ERA ROSIRA BRNERI ELA OSULENILA --- dist: RSEALOINDCTUMPBGVYQHFZJÑXKW',\n  'SI ERA ROSIRA BRDERI ELA OSULEDILA --- dist: RSEALOIDNCTUMPBGVYQHFZJÑXKW',\n  'SI ERA RNSIRA BROERI ELA NSULEOILA --- dist: RSEALNIODCTUMPBGVYQHFZJÑXKW',\n  'SI ERA RNSIRA BRDERI ELA NSULEDILA --- dist: RSEALNIDOCTUMPBGVYQHFZJÑXKW',\n  'SI ERA RDSIRA BROERI ELA DSULEOILA --- dist: RSEALDIONCTUMPBGVYQHFZJÑXKW',\n  'SI ERA RDSIRA BRNERI ELA DSULENILA --- dist: RSEALDINOCTUMPBGVYQHFZJÑXKW',\n  'NO ERA RINORA BRDERO ESA INUSEDOSA --- dist: RNEASIODLCTUMPBGVYQHFZJÑXKW',\n  'NO ERA RINORA BRLERO ESA INUSELOSA --- dist: RNEASIOLDCTUMPBGVYQHFZJÑXKW',\n  'NO ERA RDNORA BRIERO ESA DNUSEIOSA --- dist: RNEASDOILCTUMPBGVYQHFZJÑXKW',\n  'NO ERA RDNORA BRLERO ESA DNUSELOSA --- dist: RNEASDOLICTUMPBGVYQHFZJÑXKW',\n  'NO ERA RLNORA BRIERO ESA LNUSEIOSA --- dist: RNEASLOIDCTUMPBGVYQHFZJÑXKW',\n  'NO ERA RLNORA BRDERO ESA LNUSEDOSA --- dist: RNEASLODICTUMPBGVYQHFZJÑXKW',\n  'NO ERA RSNORA BRDERO EIA SNUIEDOIA --- dist: RNEAISODLCTUMPBGVYQHFZJÑXKW',\n  'NO ERA RSNORA BRLERO EIA SNUIELOIA --- dist: RNEAISOLDCTUMPBGVYQHFZJÑXKW',\n  'NO ERA RDNORA BRSERO EIA DNUIESOIA --- dist: RNEAIDOSLCTUMPBGVYQHFZJÑXKW',\n  'NO ERA RDNORA BRLERO EIA DNUIELOIA --- dist: RNEAIDOLSCTUMPBGVYQHFZJÑXKW',\n  'NO ERA RLNORA BRSERO EIA LNUIESOIA --- dist: RNEAILOSDCTUMPBGVYQHFZJÑXKW',\n  'NO ERA RLNORA BRDERO EIA LNUIEDOIA --- dist: RNEAILODSCTUMPBGVYQHFZJÑXKW',\n  'NO ERA RSNORA BRIERO EDA SNUDEIODA --- dist: RNEADSOILCTUMPBGVYQHFZJÑXKW',\n  'NO ERA RSNORA BRLERO EDA SNUDELODA --- dist: RNEADSOLICTUMPBGVYQHFZJÑXKW',\n  'NO ERA RINORA BRSERO EDA INUDESODA --- dist: RNEADIOSLCTUMPBGVYQHFZJÑXKW',\n  'NO ERA RINORA BRLERO EDA INUDELODA --- dist: RNEADIOLSCTUMPBGVYQHFZJÑXKW',\n  'NO ERA RLNORA BRSERO EDA LNUDESODA --- dist: RNEADLOSICTUMPBGVYQHFZJÑXKW',\n  'NO ERA RLNORA BRIERO EDA LNUDEIODA --- dist: RNEADLOISCTUMPBGVYQHFZJÑXKW',\n  'NO ERA RSNORA BRIERO ELA SNULEIOLA --- dist: RNEALSOIDCTUMPBGVYQHFZJÑXKW',\n  'NO ERA RSNORA BRDERO ELA SNULEDOLA --- dist: RNEALSODICTUMPBGVYQHFZJÑXKW',\n  'NO ERA RINORA BRSERO ELA INULESOLA --- dist: RNEALIOSDCTUMPBGVYQHFZJÑXKW',\n  'NO ERA RINORA BRDERO ELA INULEDOLA --- dist: RNEALIODSCTUMPBGVYQHFZJÑXKW',\n  'NO ERA RDNORA BRSERO ELA DNULESOLA --- dist: RNEALDOSICTUMPBGVYQHFZJÑXKW',\n  'NO ERA RDNORA BRIERO ELA DNULEIOLA --- dist: RNEALDOISCTUMPBGVYQHFZJÑXKW'],\n 'Total: 312')"
     },
     "metadata": {},
     "execution_count": 11
    }
   ],
   "source": [
    "possible_message = []\n",
    "for dist in spanish_dist_modified:\n",
    "    possible_message.append(decipher_firsts(dist) + \" --- dist:\" + dist)\n",
    "    possible_message\n",
    "possible_message = list(filter(lambda x: spanish_words_filter(x[0:2], x[3:6]), possible_message))\n",
    "possible_message = list(map(lambda x: x, possible_message))\n",
    "\n",
    "possible_message, \"Total: \" + str(len(possible_message))"
   ]
  },
  {
   "cell_type": "markdown",
   "metadata": {},
   "source": [
    "### Hmm... I think this is it. In this list we can see ONE really clean phrase, with almost 6 correct words. This is Spanish and this is the correct way. I will work with this sentence"
   ]
  },
  {
   "cell_type": "code",
   "execution_count": 12,
   "metadata": {},
   "outputs": [
    {
     "output_type": "execute_result",
     "data": {
      "text/plain": "(120, ' AELSORNIDCTUMPBGVYQHFZJÑXKW')"
     },
     "metadata": {},
     "execution_count": 12
    }
   ],
   "source": [
    "meaningful_phrase = \"EN LAS ARENAS BAILAN LOS REUOLINOS\"\n",
    "# The last word should be, undoubtedly, \"Remolinos\"\n",
    "meaningful_phrase_index = [possible_message.index(x) for x in possible_message if meaningful_phrase in x][0]\n",
    "interesting_distribution = possible_message[meaningful_phrase_index].partition(\"dist:\")[2] \n",
    "meaningful_phrase_index, interesting_distribution"
   ]
  },
  {
   "cell_type": "code",
   "execution_count": 13,
   "metadata": {},
   "outputs": [
    {
     "output_type": "execute_result",
     "data": {
      "text/plain": "'EN LAS ARENAS BAILAN LOS REUOLINOS EL SOL GMEVA EN EL BRILLO DEL CEDREVAL Y CRENDIDO A LA UAVIA DE LOS QAUINOS EL ARRIERO TA EL ARRIERO TA ES BANDERA DE NIEBLA SM CONQFO AL TIENPO LO SALMDAN LAS ZLAMPAS DEL CAGONAL Y ANIUANDO LA PROCA CAR ESOS QERROS EL ARRIERO TA EL ARRIERO TA LAS CENAS Y LAS TAHMIPAS SE TAN CAR LA UISUA SENDA LAS CENAS SON DE NOSOPROS LAS TAHMIPAS SON AGENAS'"
     },
     "metadata": {},
     "execution_count": 13
    }
   ],
   "source": [
    "decipher(interesting_distribution)"
   ]
  },
  {
   "cell_type": "markdown",
   "metadata": {},
   "source": [
    "Almost done! Let's try to make some individual changes, like 'u' for 'm' and go on\n",
    "\n",
    "## Warning: Spoilers from now\n"
   ]
  },
  {
   "cell_type": "code",
   "execution_count": 14,
   "metadata": {},
   "outputs": [],
   "source": [
    "def replace_two(array, sym1, sym2):\n",
    "    return array.replace(sym1, '%temp%').replace(sym2, sym1).replace('%temp%', sym2)"
   ]
  },
  {
   "cell_type": "code",
   "execution_count": 15,
   "metadata": {},
   "outputs": [
    {
     "output_type": "execute_result",
     "data": {
      "text/plain": "'EN LAS ARENAS BAILAN LOS REMOLINOS EL SOL GUEVA EN EL BRILLO DEL CEDREVAL Y CRENDIDO A LA MAVIA DE LOS QAMINOS EL ARRIERO TA EL ARRIERO TA ES BANDERA DE NIEBLA SU CONQFO AL TIENPO LO SALUDAN LAS ZLAUPAS DEL CAGONAL Y ANIMANDO LA PROCA CAR ESOS QERROS EL ARRIERO TA EL ARRIERO TA LAS CENAS Y LAS TAHUIPAS SE TAN CAR LA MISMA SENDA LAS CENAS SON DE NOSOPROS LAS TAHUIPAS SON AGENAS'"
     },
     "metadata": {},
     "execution_count": 15
    }
   ],
   "source": [
    "interesting_distribution = replace_two(interesting_distribution, \"M\", \"U\")\n",
    "decipher(interesting_distribution)"
   ]
  },
  {
   "cell_type": "code",
   "execution_count": 16,
   "metadata": {},
   "outputs": [
    {
     "output_type": "execute_result",
     "data": {
      "text/plain": "'EN LAS ARENAS BAILAN LOS REMOLINOS EL SOL GUETA EN EL BRILLO DEL QEDRETAL Y QRENDIDO A LA MATIA DE LOS CAMINOS EL ARRIERO VA EL ARRIERO VA ES BANDERA DE NIEBLA SU QONCFO AL VIENPO LO SALUDAN LAS ZLAUPAS DEL QAGONAL Y ANIMANDO LA PROQA QAR ESOS CERROS EL ARRIERO VA EL ARRIERO VA LAS QENAS Y LAS VAHUIPAS SE VAN QAR LA MISMA SENDA LAS QENAS SON DE NOSOPROS LAS VAHUIPAS SON AGENAS'"
     },
     "metadata": {},
     "execution_count": 16
    }
   ],
   "source": [
    "interesting_distribution = replace_two(interesting_distribution, \"C\", \"Q\")\n",
    "interesting_distribution = replace_two(interesting_distribution, \"T\", \"V\")\n",
    "decipher(interesting_distribution)"
   ]
  },
  {
   "cell_type": "code",
   "execution_count": 17,
   "metadata": {},
   "outputs": [
    {
     "output_type": "execute_result",
     "data": {
      "text/plain": "'EN LAS ARENAS BAILAN LOS REMOLINOS EL SOL GUETA EN EL BRILLO DEL PEDRETAL Y PRENDIDO A LA MATIA DE LOS CAMINOS EL ARRIERO VA EL ARRIERO VA ES BANDERA DE NIEBLA SU PONCFO AL VIENQO LO SALUDAN LAS ZLAUQAS DEL PAGONAL Y ANIMANDO LA QROPA PAR ESOS CERROS EL ARRIERO VA EL ARRIERO VA LAS PENAS Y LAS VAHUIQAS SE VAN PAR LA MISMA SENDA LAS PENAS SON DE NOSOQROS LAS VAHUIQAS SON AGENAS'"
     },
     "metadata": {},
     "execution_count": 17
    }
   ],
   "source": [
    "interesting_distribution = replace_two(interesting_distribution, \"P\", \"Q\")\n",
    "decipher(interesting_distribution)"
   ]
  },
  {
   "cell_type": "code",
   "execution_count": 18,
   "metadata": {},
   "outputs": [
    {
     "output_type": "execute_result",
     "data": {
      "text/plain": "'EN LAS ARENAS BAILAN LOS REMOLINOS EL SOL GUEQA EN EL BRILLO DEL PEDREQAL Y PRENDIDO A LA MAQIA DE LOS CAMINOS EL ARRIERO VA EL ARRIERO VA ES BANDERA DE NIEBLA SU PONCHO AL VIENTO LO SALUDAN LAS ZLAUTAS DEL PAGONAL Y ANIMANDO LA TROPA PAR ESOS CERROS EL ARRIERO VA EL ARRIERO VA LAS PENAS Y LAS VAFUITAS SE VAN PAR LA MISMA SENDA LAS PENAS SON DE NOSOTROS LAS VAFUITAS SON AGENAS'"
     },
     "metadata": {},
     "execution_count": 18
    }
   ],
   "source": [
    "interesting_distribution = replace_two(interesting_distribution, \"Q\", \"T\")\n",
    "interesting_distribution = replace_two(interesting_distribution, \"F\", \"H\")\n",
    "decipher(interesting_distribution)"
   ]
  },
  {
   "cell_type": "code",
   "execution_count": 19,
   "metadata": {},
   "outputs": [
    {
     "output_type": "execute_result",
     "data": {
      "text/plain": "'EN LAS ARENAS BAILAN LOS REMOLINOS EL SOL GUEFA EN EL BRILLO DEL PEDREFAL Y PRENDIDO A LA MAFIA DE LOS CAMINOS EL ARRIERO VA EL ARRIERO VA ES BANDERA DE NIEBLA SU PONCHO AL VIENTO LO SALUDAN LAS ZLAUTAS DEL PAGONAL Y ANIMANDO LA TROPA PAR ESOS CERROS EL ARRIERO VA EL ARRIERO VA LAS PENAS Y LAS VAQUITAS SE VAN PAR LA MISMA SENDA LAS PENAS SON DE NOSOTROS LAS VAQUITAS SON AGENAS'"
     },
     "metadata": {},
     "execution_count": 19
    }
   ],
   "source": [
    "interesting_distribution = replace_two(interesting_distribution, \"F\", \"Q\")\n",
    "decipher(interesting_distribution)"
   ]
  },
  {
   "cell_type": "code",
   "execution_count": 20,
   "metadata": {},
   "outputs": [
    {
     "output_type": "execute_result",
     "data": {
      "text/plain": "'EN LAS ARENAS BAILAN LOS REMOLINOS EL SOL FUEGA EN EL BRILLO DEL PEDREGAL Y PRENDIDO A LA MAGIA DE LOS CAMINOS EL ARRIERO VA EL ARRIERO VA ES BANDERA DE NIEBLA SU PONCHO AL VIENTO LO SALUDAN LAS ZLAUTAS DEL PAFONAL Y ANIMANDO LA TROPA PAR ESOS CERROS EL ARRIERO VA EL ARRIERO VA LAS PENAS Y LAS VAQUITAS SE VAN PAR LA MISMA SENDA LAS PENAS SON DE NOSOTROS LAS VAQUITAS SON AFENAS'"
     },
     "metadata": {},
     "execution_count": 20
    }
   ],
   "source": [
    "interesting_distribution = replace_two(interesting_distribution, \"F\", \"G\")\n",
    "decipher(interesting_distribution)"
   ]
  },
  {
   "cell_type": "code",
   "execution_count": 21,
   "metadata": {},
   "outputs": [
    {
     "output_type": "execute_result",
     "data": {
      "text/plain": "'EN LAS ARENAS BAILAN LOS REMOLINOS EL SOL JUEGA EN EL BRILLO DEL PEDREGAL Y PRENDIDO A LA MAGIA DE LOS CAMINOS EL ARRIERO VA EL ARRIERO VA ES BANDERA DE NIEBLA SU PONCHO AL VIENTO LO SALUDAN LAS ZLAUTAS DEL PAJONAL Y ANIMANDO LA TROPA PAR ESOS CERROS EL ARRIERO VA EL ARRIERO VA LAS PENAS Y LAS VAQUITAS SE VAN PAR LA MISMA SENDA LAS PENAS SON DE NOSOTROS LAS VAQUITAS SON AJENAS'"
     },
     "metadata": {},
     "execution_count": 21
    }
   ],
   "source": [
    "# Yeah! Final One\n",
    "interesting_distribution = replace_two(interesting_distribution, \"F\", \"J\")\n",
    "decoded_message = decipher(interesting_distribution)\n",
    "decoded_message"
   ]
  },
  {
   "cell_type": "code",
   "execution_count": 22,
   "metadata": {},
   "outputs": [
    {
     "output_type": "execute_result",
     "data": {
      "text/plain": "' AELSORNIDPVMUTBJGYCQHZFÑXKW'"
     },
     "metadata": {},
     "execution_count": 22
    }
   ],
   "source": [
    "# With te distribution...\n",
    "interesting_distribution"
   ]
  },
  {
   "cell_type": "markdown",
   "metadata": {},
   "source": [
    "## Finally!! The message is readable, and is a fragment of the lyrics of an old Argentinan song called [\"El Arriero\" (Atahualpa Yupanqui)](https://www.youtube.com/watch?v=CPbw34Ju_o4).\n",
    "\n",
    "## Challenge completed successfully."
   ]
  }
 ],
 "metadata": {
  "language_info": {
   "codemirror_mode": {
    "name": "ipython",
    "version": 3
   },
   "file_extension": ".py",
   "mimetype": "text/x-python",
   "name": "python",
   "nbconvert_exporter": "python",
   "pygments_lexer": "ipython3",
   "version": "3.7.0-final"
  },
  "orig_nbformat": 2,
  "kernelspec": {
   "name": "python37064bit4614adc8bb8746d4abfc15a591248490",
   "display_name": "Python 3.7.0 64-bit"
  }
 },
 "nbformat": 4,
 "nbformat_minor": 2
}